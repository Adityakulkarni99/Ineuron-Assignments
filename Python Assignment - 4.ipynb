{
 "cells": [
  {
   "cell_type": "markdown",
   "metadata": {},
   "source": [
    "Q1.1- Write a Python Program(with class concepts) to find the area of the triangle using the below formula.\n",
    "\n",
    "area = (s(s-a)(s-b)*(s-c)) ** 0.5\n",
    "\n",
    "Function to take the length of the sides of triangle from user should be defined in the parent class and function to calculate the area should be defined in subclass"
   ]
  },
  {
   "cell_type": "code",
   "execution_count": 4,
   "metadata": {},
   "outputs": [
    {
     "name": "stdout",
     "output_type": "stream",
     "text": [
      "Enter Side a: 13\n",
      "Enter Side b: 15\n",
      "Enter Side c: 17\n",
      "The area of the given triangle: 93.89988019161686 units.\n"
     ]
    }
   ],
   "source": [
    "class side:\n",
    "    def __init__(self):\n",
    "        self.a=float(input(\"Enter Side a: \"))\n",
    "        self.b=float(input(\"Enter Side b: \"))\n",
    "        self.c=float(input(\"Enter Side c: \"))\n",
    "    \n",
    "class area(side):\n",
    "    def calculate(self):\n",
    "        s=(self.a +self.b +self.c)/2\n",
    "        return (s*(s-self.a)*(s-self.b)*(s-self.c))**0.5\n",
    "a1=area()\n",
    "print(f\"The area of the given triangle: {a1.calculate()} units.\")"
   ]
  },
  {
   "cell_type": "markdown",
   "metadata": {},
   "source": [
    "Q1.2- Write a function filter_long_words() that takes a list of words and an integer n and returns the list of words that are longer than n."
   ]
  },
  {
   "cell_type": "code",
   "execution_count": 5,
   "metadata": {},
   "outputs": [
    {
     "name": "stdout",
     "output_type": "stream",
     "text": [
      "['ramesh', 'jake', 'harsh', 'veer', 'kunal', 'prashant']\n"
     ]
    }
   ],
   "source": [
    "def filter_long_words(l1,n):\n",
    "    l2=[]\n",
    "    for words in l1:\n",
    "        if len(words)>n:\n",
    "            l2.append(words)\n",
    "    return l2\n",
    "print(filter_long_words(['ramesh','jaz','jake','harsh','veer','kunal','prashant','ria'],3))"
   ]
  },
  {
   "cell_type": "markdown",
   "metadata": {},
   "source": [
    "Q2.1- Write a Python program using function concept that maps list of words into a list of integers\n",
    "representing the lengths of the corresponding words."
   ]
  },
  {
   "cell_type": "markdown",
   "metadata": {},
   "source": [
    "Hint: If a list [ ab,cde,erty] is passed on to the python function output should come as [2,3,4]\n",
    "\n",
    "Here 2,3 and 4 are the lengths of the words in the list."
   ]
  },
  {
   "cell_type": "code",
   "execution_count": 6,
   "metadata": {},
   "outputs": [
    {
     "name": "stdout",
     "output_type": "stream",
     "text": [
      "[6, 3, 4, 5, 4, 5, 8, 3]\n"
     ]
    }
   ],
   "source": [
    "def list_to_length(l1):\n",
    "    l2=[]\n",
    "    for words in l1:\n",
    "        l2.append(len(words))\n",
    "    return l2\n",
    "print(list_to_length(['ramesh','jaz','jake','harsh','veer','kunal','prashant','ria']))"
   ]
  },
  {
   "cell_type": "markdown",
   "metadata": {},
   "source": [
    "Q2.2- Write a Python function which takes a character (i.e. a string of length 1) and returns True if\n",
    "it is a vowel, False otherwise."
   ]
  },
  {
   "cell_type": "code",
   "execution_count": 7,
   "metadata": {},
   "outputs": [
    {
     "name": "stdout",
     "output_type": "stream",
     "text": [
      "False\n"
     ]
    }
   ],
   "source": [
    "def check_vowel(letter):\n",
    "    if letter in ['a','e','i','o','u']:\n",
    "        return True\n",
    "    return False\n",
    "print(check_vowel('q'))"
   ]
  },
  {
   "cell_type": "code",
   "execution_count": null,
   "metadata": {},
   "outputs": [],
   "source": []
  }
 ],
 "metadata": {
  "kernelspec": {
   "display_name": "Python 3",
   "language": "python",
   "name": "python3"
  },
  "language_info": {
   "codemirror_mode": {
    "name": "ipython",
    "version": 3
   },
   "file_extension": ".py",
   "mimetype": "text/x-python",
   "name": "python",
   "nbconvert_exporter": "python",
   "pygments_lexer": "ipython3",
   "version": "3.8.5"
  }
 },
 "nbformat": 4,
 "nbformat_minor": 4
}
