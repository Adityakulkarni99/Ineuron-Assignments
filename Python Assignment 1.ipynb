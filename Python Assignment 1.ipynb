{
 "cells": [
  {
   "cell_type": "code",
   "execution_count": 1,
   "metadata": {},
   "outputs": [
    {
     "name": "stdout",
     "output_type": "stream",
     "text": [
      "Hello Python\n"
     ]
    }
   ],
   "source": [
    "#My name is Aditya Kulkarni and Roll no. is DS5B-2001\n",
    "#Python program to print \"Hello Python\":\n",
    "\n",
    "print(\"Hello Python\")"
   ]
  },
  {
   "cell_type": "code",
   "execution_count": 20,
   "metadata": {},
   "outputs": [
    {
     "name": "stdout",
     "output_type": "stream",
     "text": [
      "Enter first number: 34\n",
      "Enter second number: 22\n",
      "The sum of 34 and 22 is 56.0\n",
      "The subtraction of 34 and 22 is 12.0\n",
      "The multiplication of 34 and 22 is 748.0\n",
      "The division of 34 and 22 is 1.5454545454545454\n"
     ]
    }
   ],
   "source": [
    "#My name is Aditya Kulkarni and Roll no. is DS5B-2001\n",
    "#Python program to do arithmetical operations:  \n",
    "\n",
    "num1 = input('Enter first number: ')  \n",
    "num2 = input('Enter second number: ')  \n",
    "#Add two numbers  \n",
    "sum = float(num1) + float(num2)  \n",
    "#Subtract two numbers  \n",
    "min = float(num1) - float(num2)  \n",
    "#Multiply two numbers  \n",
    "mul = float(num1) * float(num2)  \n",
    "#Divide two numbers  \n",
    "div = float(num1) / float(num2)  \n",
    "#Display the sum  \n",
    "print('The sum of {0} and {1} is {2}'.format(num1, num2, sum))  \n",
    "#Display the subtraction  \n",
    "print('The subtraction of {0} and {1} is {2}'.format(num1, num2, min))  \n",
    "# Display the multiplication  \n",
    "print('The multiplication of {0} and {1} is {2}'.format(num1, num2, mul))  \n",
    "# Display the division  \n",
    "print('The division of {0} and {1} is {2}'.format(num1, num2, div))"
   ]
  },
  {
   "cell_type": "code",
   "execution_count": 3,
   "metadata": {},
   "outputs": [
    {
     "name": "stdout",
     "output_type": "stream",
     "text": [
      "Enter first side: 10\n",
      "Enter second side: 15\n",
      "Enter third side: 20\n",
      "The area of the triangle is 72.62\n"
     ]
    }
   ],
   "source": [
    "#My name is Aditya Kulkarni and Roll no. is DS5B-2001\n",
    "#Python program to find the area of a triangle:\n",
    "\n",
    "#Three sides of the triangle is a, b and c:  \n",
    "a = float(input('Enter first side: '))  \n",
    "b = float(input('Enter second side: '))  \n",
    "c = float(input('Enter third side: '))  \n",
    "  \n",
    "#calculate the semi-perimeter  \n",
    "s = (a + b + c) / 2  \n",
    "  \n",
    "#calculate the area  \n",
    "area = (s*(s-a)*(s-b)*(s-c)) ** 0.5  \n",
    "print('The area of the triangle is %0.2f' %area)   "
   ]
  },
  {
   "cell_type": "code",
   "execution_count": 2,
   "metadata": {},
   "outputs": [
    {
     "name": "stdout",
     "output_type": "stream",
     "text": [
      "Enter the Number: 25\n",
      "The binary equivalent of 25 is 11001 .\n"
     ]
    }
   ],
   "source": [
    "#My name is Aditya Kulkarni and Roll no. is DS5B-2001\n",
    "#Python program to convert the decimal number to binary number:\n",
    "\n",
    "number=int(input(\"Enter the Number: \"))\n",
    "temp=number\n",
    "binary=\"\"\n",
    "while number>0:\n",
    "    rem=number%2\n",
    "    binary+=str(rem)\n",
    "    number=number//2\n",
    "print(\"The binary equivalent of \"+str(temp)+\" is \"+binary[::-1]+\" .\")"
   ]
  },
  {
   "cell_type": "code",
   "execution_count": 6,
   "metadata": {},
   "outputs": [
    {
     "name": "stdout",
     "output_type": "stream",
     "text": [
      "Enter value of x: 56\n",
      "Enter value of y: 78\n",
      "The value of x after swapping: 78\n",
      "The value of y after swapping: 56\n"
     ]
    }
   ],
   "source": [
    "#My name is Aditya Kulkarni and Roll no. is DS5B-2001\n",
    "#Python program to swap two variables:\n",
    "\n",
    "#Python swap program   \n",
    "x = input('Enter value of x: ')  \n",
    "y = input('Enter value of y: ')  \n",
    "  \n",
    "#create a temporary variable and swap the values  \n",
    "temp = x  \n",
    "x = y  \n",
    "y = temp  \n",
    "  \n",
    "print('The value of x after swapping: {}'.format(x))  \n",
    "print('The value of y after swapping: {}'.format(y)) "
   ]
  },
  {
   "cell_type": "code",
   "execution_count": 18,
   "metadata": {},
   "outputs": [
    {
     "name": "stdout",
     "output_type": "stream",
     "text": [
      "Enter first digit: 1\n",
      "Enter second digit: 5\n",
      "Enter third digit: 6\n",
      "Delta is\n",
      "1\n",
      "The values of X1 and X2 will be:\n",
      "-2.0\n",
      "-3.0\n"
     ]
    }
   ],
   "source": [
    "#My name is Aditya Kulkarni and Roll no. is DS5B-2001\n",
    "#Python program to solve the quadratic equation:\n",
    "\n",
    "a = int(input(\"Enter first digit: \"))\n",
    "b = int(input(\"Enter second digit: \"))\n",
    "c = int(input(\"Enter third digit: \"))\n",
    "\n",
    "#a =! 0\n",
    "if not a==0:\n",
    "    d = (b)**2-(a*4*c)\n",
    "else:\n",
    "    print(\"Error! Wrong Input \")\n",
    "#delta    \n",
    "d = (b)**2-(a*4*c)\n",
    "print(\"Delta is\")\n",
    "print(d)  \n",
    "# delta > 0 \n",
    "if not d <= 0:\n",
    "    x1 = (b*(1-2)+(d**0.5))/(2*a)\n",
    "    x2 = (b*(1-2)-(d**0.5))/(2*a)\n",
    "        \n",
    "    print (\"The values of X1 and X2 will be:\")\n",
    "    print (x1)\n",
    "    print (x2)\n",
    "    \n",
    "if d == 0:\n",
    "   x0 = b*(1-2)/(2*a)\n",
    "   print (\"one X\")\n",
    "   print (x0)\n",
    "   \n",
    "if d < 0:\n",
    "    print (\"no X\")"
   ]
  },
  {
   "cell_type": "code",
   "execution_count": 17,
   "metadata": {},
   "outputs": [
    {
     "name": "stdout",
     "output_type": "stream",
     "text": [
      "Enter your height in meters: 0.14986\n",
      "Enter your weight in kilograms: 62\n",
      "2760.7064694163864\n",
      "You have absolutely fine weight.\n"
     ]
    }
   ],
   "source": [
    "#My name is Aditya Kulkarni and Roll no. is DS5B-2001\n",
    "#Python program to calculate BMI(Body Mass Index):\n",
    "\n",
    "#Enter the height in meters\n",
    "Height=float(input(\"Enter your height in meters: \"))\n",
    "#ENter the Weight in kilograms\n",
    "Weight=int(input(\"Enter your weight in kilograms: \"))\n",
    "BMI=Weight/Height**2\n",
    "if BMI<18:\n",
    "   print(BMI)\n",
    "   print('You are underweight')\n",
    "elif BMI==18:\n",
    "    print(BMI)\n",
    "    print('Good You have a perfect weight')\n",
    "elif BMI>18 or  BMI<25:\n",
    "    print(BMI)\n",
    "    print('You have absolutely fine weight.')\n",
    "elif BMI>25:\n",
    "    print(BMI)\n",
    "    print('You are overweight.')\n",
    "else :\n",
    "    print('Put valid Input')"
   ]
  },
  {
   "cell_type": "code",
   "execution_count": 14,
   "metadata": {},
   "outputs": [
    {
     "name": "stdout",
     "output_type": "stream",
     "text": [
      "The sum of prime numbers: 328\n"
     ]
    }
   ],
   "source": [
    "#My name is Aditya Kulkarni and Roll no. is DS5B-2001\n",
    "#Find the sum of all prime numbers in Python:\n",
    "\n",
    "N=50\n",
    "s=0\n",
    "Primes=[True for k in range(N+1)] \n",
    "p=2\n",
    "Primes[0]=False\n",
    "Primes[1]=False\n",
    "while(p*p<=N):\n",
    "    if Primes[p]==True: \n",
    "        for j in range(p*p,N+1,p): \n",
    "            Primes[j]=False\n",
    "    p+=1\n",
    "for i in range(2,N):\n",
    "    if Primes[i]:\n",
    "        s+=i\n",
    "print('The sum of prime numbers:',s)"
   ]
  },
  {
   "cell_type": "code",
   "execution_count": 17,
   "metadata": {},
   "outputs": [
    {
     "name": "stdout",
     "output_type": "stream",
     "text": [
      "Uppercase Alphabets are:\n",
      "A B C D E F G H I J K L M N O P Q R S T U V W X Y Z \n",
      "Lowercase Alphabets are:\n",
      "a b c d e f g h i j k l m n o p q r s t u v w x y z "
     ]
    }
   ],
   "source": [
    "#My name is Aditya Kulkarni and Roll no. is DS5B-2001\n",
    "#Python program to print the all uppercase and lowercase alphabets:\n",
    "\n",
    "#printing all uppercase alphabets\n",
    "print(\"Uppercase Alphabets are:\")\n",
    "for i in range(65,91): \n",
    "        print(chr(i),end=' ')  \n",
    "\n",
    "#printing all lowercase alphabets\n",
    "print(\"\\nLowercase Alphabets are:\")\n",
    "for j in range(97,123): \n",
    "        print(chr(j),end=' ')"
   ]
  },
  {
   "cell_type": "code",
   "execution_count": 23,
   "metadata": {},
   "outputs": [
    {
     "name": "stdout",
     "output_type": "stream",
     "text": [
      "22  is even\n",
      "33  is odd\n",
      "57  is odd\n",
      "68  is even\n",
      "74  is even\n",
      "73  is odd\n",
      "84  is even\n"
     ]
    }
   ],
   "source": [
    "#My name is Aditya Kulkarni and Roll no. is DS5B-2001\n",
    "#Python program to find Even and Odd Numbers in given list:\n",
    "  \n",
    "l=[\"22\",\"33\",\"57\",\"68\",\"74\",\"73\",\"84\"]\n",
    "for i in l:\n",
    "    i=int(i)\n",
    "    if i%2==0:\n",
    "        print(i,\" is even\")\n",
    "    else:\n",
    "        print(i,\" is odd\")"
   ]
  },
  {
   "cell_type": "code",
   "execution_count": 20,
   "metadata": {},
   "outputs": [
    {
     "name": "stdout",
     "output_type": "stream",
     "text": [
      "No. of vowels in all elements of given list\n",
      "\n",
      "mohan : 2\n",
      "shyam : 1\n",
      "krishna : 2\n",
      "govardhan : 3\n",
      "madhusudhan : 4\n",
      "gopal : 2\n"
     ]
    }
   ],
   "source": [
    "#My name is Aditya Kulkarni and Roll no. is DS5B-2001\n",
    "#Python program to count the number of vowels in a list:\n",
    "\n",
    "name=[\"mohan\",\"shyam\",\"krishna\",\"govardhan\",\"madhusudhan\",\"gopal\"]\n",
    "vowel=[\"A\",\"E\",\"I\",\"O\",\"U\",\"a\",\"e\",\"i\",\"o\",\"u\"]\n",
    "print(\"No. of vowels in all elements of given list\")\n",
    "print()\n",
    "for i in name:\n",
    "    count=0\n",
    "    for j in i:\n",
    "        if j in vowel:\n",
    "            count=count+1\n",
    "    print(i,\":\",count)"
   ]
  },
  {
   "cell_type": "code",
   "execution_count": 21,
   "metadata": {},
   "outputs": [
    {
     "name": "stdout",
     "output_type": "stream",
     "text": [
      "Input a number:15\n",
      "15 x 1 = 15\n",
      "15 x 2 = 30\n",
      "15 x 3 = 45\n",
      "15 x 4 = 60\n",
      "15 x 5 = 75\n",
      "15 x 6 = 90\n",
      "15 x 7 = 105\n",
      "15 x 8 = 120\n",
      "15 x 9 = 135\n",
      "15 x 10 = 150\n"
     ]
    }
   ],
   "source": [
    "#My name is Aditya Kulkarni and Roll no. is DS5B-2001\n",
    "#Python program for Multiplication Table:\n",
    "\n",
    "n=int(input(\"Input a number:\"))\n",
    "for i in range(1,11):\n",
    "    print(n,'x',i,'=',n*i)"
   ]
  },
  {
   "cell_type": "code",
   "execution_count": 22,
   "metadata": {},
   "outputs": [
    {
     "name": "stdout",
     "output_type": "stream",
     "text": [
      "1st number = 23\n",
      "23\n",
      "2nd number = 78\n",
      "78\n",
      "3rd number = 46\n",
      "46\n",
      "The greatest number is 78\n"
     ]
    }
   ],
   "source": [
    "#My name is Aditya Kulkarni and Roll no. is DS5B-2001\n",
    "#Python program for finding the greatest number:\n",
    "\n",
    "num1=int(input(\"1st number = \"))\n",
    "print (\"%g\" %num1)\n",
    "num2=int(input(\"2nd number = \"))\n",
    "print (\"%g\" %num2)\n",
    "num3=int(input(\"3rd number = \"))\n",
    "print (\"%g\" %num3)\n",
    "\n",
    "if num1==num2==num3:\n",
    "    print (\"All numbers are equal\")\n",
    "    \n",
    "elif num1>num2:\n",
    "  if num1>num3:\n",
    "    print (\"The greatest number is %g\" %num1)\n",
    "  else:\n",
    "    print (\"The greatest number is %g\" %num3)\n",
    "    \n",
    "else:\n",
    "  if num2>num3:\n",
    "    print (\"The greatest number is %g\" %num2)\n",
    "  else:\n",
    "    print (\"The greatest number is %g\" %num3)"
   ]
  },
  {
   "cell_type": "code",
   "execution_count": 24,
   "metadata": {},
   "outputs": [
    {
     "name": "stdout",
     "output_type": "stream",
     "text": [
      "1:Area of Square\n",
      "2:Area of Rectangle\n",
      "3:Area of Triangle\n",
      "4:Area of circle\n",
      "5:Invaild Input\n",
      "Enter Your Choice: 2\n",
      "Enter the width:15\n",
      "Enter the lenght:25\n",
      "area of rectangle is 375\n"
     ]
    }
   ],
   "source": [
    "#My name is Aditya Kulkarni and Roll no. is DS5B-2001\n",
    "#Python program for menu driven area calculator:\n",
    "\n",
    "print (\"1:Area of Square\")\n",
    "print (\"2:Area of Rectangle\")\n",
    "print (\"3:Area of Triangle\")\n",
    "print (\"4:Area of circle\")\n",
    "print (\"5:Invaild Input\")\n",
    "\n",
    "choice = int(input(\"Enter Your Choice: \"))\n",
    "\n",
    "if (choice == 1):\n",
    "    l=int(input(\"Enter your the length:\"))\n",
    "    print(\"Area of square is\",l*l)\n",
    "    \n",
    "if (choice == 2):\n",
    "    w=int(input(\"Enter the width:\"))\n",
    "    l=int(input(\"Enter the lenght:\"))\n",
    "    print(\"area of rectangle is\",l*w)\n",
    "    \n",
    "if (choice == 3):\n",
    "    a=float(input('Please Enter the First side of a Triangle: '))\n",
    "    b=float(input('Please Enter the Second side of a Triangle: '))\n",
    "    c=float(input('Please Enter the Third side of a Triangle: '))\n",
    "    Perimeter = a + b + c\n",
    "    s=(a + b + c) / 2\n",
    "    Area=(s*(s-a)*(s-b)*(s-c)) ** 0.5\n",
    "    print(\"\\n The Perimeter of Traiangle = %.2f\" %Perimeter);\n",
    "    print(\" The Semi Perimeter of Traiangle = %.2f\" %s);\n",
    "    print(\" The Area of a Triangle is %0.2f\" %Area)\n",
    "     \n",
    "if (choice == 4):\n",
    "    PI = 3.14\n",
    "    radius = float(input(' Please Enter the radius of a circle: '))\n",
    "    area = PI * radius * radius\n",
    "    circumference = 2 * PI * radius\n",
    "    print(\" Area Of a Circle = %.2f\" %area)\n",
    "    print(\" Circumference Of a Circle = %.2f\" %circumference)\n",
    "\n",
    "if (choice == 5):\n",
    "    print(\"Invaid Input Please try again\")"
   ]
  },
  {
   "cell_type": "code",
   "execution_count": 26,
   "metadata": {},
   "outputs": [
    {
     "name": "stdout",
     "output_type": "stream",
     "text": [
      "unique numbers are: \n",
      "\n",
      " [11, 20, 34, 56, 90]\n"
     ]
    }
   ],
   "source": [
    "#My name is Aditya Kulkarni and Roll no. is DS5B-2001\n",
    "#Python program find the unique numbers in a list:\n",
    "\n",
    "a=[11,34,56,56,11,90,34,11,20]\n",
    "i=0\n",
    "while i<len(a):\n",
    "    if a.count(a[i])>1:\n",
    "        a.remove(a[i])\n",
    "    i+=1\n",
    "a.sort()\n",
    "print(\"unique numbers are: \\n\\n\",a)"
   ]
  },
  {
   "cell_type": "code",
   "execution_count": 37,
   "metadata": {},
   "outputs": [
    {
     "name": "stdout",
     "output_type": "stream",
     "text": [
      "Enter The Text: aditya\n",
      "97 100 105 116 121 97 \n"
     ]
    }
   ],
   "source": [
    "#My name is Aditya Kulkarni and Roll no. is DS5B-2001\n",
    "#Python program to print the ASCII number of given text:\n",
    "\n",
    "text = input('Enter The Text: ')\n",
    "ascii = \"\"\n",
    "for c in text:\n",
    "    ascii += str(ord(c)) + \" \"\n",
    "\n",
    "print(ascii)"
   ]
  },
  {
   "cell_type": "code",
   "execution_count": 39,
   "metadata": {},
   "outputs": [
    {
     "name": "stdout",
     "output_type": "stream",
     "text": [
      "Enter the Principal Amount: 1200\n",
      "Enter the rate of Interest: 8\n",
      "Enter the Time: 12\n",
      "Your interest is 1152.0 and total amount after 12.0 years will be 2352.0\n"
     ]
    }
   ],
   "source": [
    "#My name is Aditya Kulkarni and Roll no. is DS5B-2001\n",
    "#Python program to find the simple interest:\n",
    "\n",
    "p = float(input(\"Enter the Principal Amount: \"))\n",
    "r = float(input(\"Enter the rate of Interest: \"))\n",
    "t = float(input(\"Enter the Time: \"))\n",
    "\n",
    "i = (p*r*t)/100\n",
    "\n",
    "a = p+i\n",
    "\n",
    "print (\"Your interest is\",i,\"and total amount after\",t,\"years will be\",a,)"
   ]
  },
  {
   "cell_type": "code",
   "execution_count": 46,
   "metadata": {},
   "outputs": [
    {
     "name": "stdout",
     "output_type": "stream",
     "text": [
      "Enter a number: -45\n",
      "Is a Negative number\n"
     ]
    }
   ],
   "source": [
    "#My name is Aditya Kulkarni and Roll no. is DS5B-2001\n",
    "#Python program to find if the number is postive or negative:\n",
    "\n",
    "num = float(input(\"Enter a number: \")) \n",
    "\n",
    "if num >= 0: \n",
    "    if num == 0: \n",
    "        print(\"Zero\") \n",
    "    else: \n",
    "        print(\"Is a Positive number\") \n",
    "        \n",
    "else: \n",
    "        print(\"Is a Negative number\")"
   ]
  },
  {
   "cell_type": "code",
   "execution_count": 47,
   "metadata": {},
   "outputs": [
    {
     "name": "stdout",
     "output_type": "stream",
     "text": [
      "Enter a year: 2000\n",
      "2000 is a leap year\n"
     ]
    }
   ],
   "source": [
    "#My name is Aditya Kulkarni and Roll no. is DS5B-2001\n",
    "#Python Program to Check Leap Year:\n",
    "\n",
    "year = int(input(\"Enter a year: \"))\n",
    "if (year % 4) == 0:\n",
    "    if (year % 100) == 0:\n",
    "        if (year % 400) == 0:\n",
    "            print(\"{0} is a leap year\".format(year))\n",
    "        else:\n",
    "            print(\"{0} is not a leap year\".format(year))\n",
    "    else:\n",
    "        print(\"{0} is a leap year\".format(year))\n",
    "else:\n",
    "    print(\"{0} is not a leap year\".format(year))"
   ]
  },
  {
   "cell_type": "code",
   "execution_count": 51,
   "metadata": {},
   "outputs": [
    {
     "name": "stdout",
     "output_type": "stream",
     "text": [
      "Enter any number: 123456789\n",
      "The reversed number is:  987654321\n"
     ]
    }
   ],
   "source": [
    "#My name is Aditya Kulkarni and Roll no. is DS5B-2001\n",
    "#Python Program for reversing the given interger:\n",
    "\n",
    "x=int(input(\"Enter any number: \"))\n",
    "r=0\n",
    "while x>0:\n",
    " r=(r*10)+(x%10) #Reverse algorithm\n",
    " x=x//10\n",
    "\n",
    "print(\"The reversed number is: \",r)"
   ]
  }
 ],
 "metadata": {
  "kernelspec": {
   "display_name": "Python 3",
   "language": "python",
   "name": "python3"
  },
  "language_info": {
   "codemirror_mode": {
    "name": "ipython",
    "version": 3
   },
   "file_extension": ".py",
   "mimetype": "text/x-python",
   "name": "python",
   "nbconvert_exporter": "python",
   "pygments_lexer": "ipython3",
   "version": "3.8.5"
  }
 },
 "nbformat": 4,
 "nbformat_minor": 4
}
